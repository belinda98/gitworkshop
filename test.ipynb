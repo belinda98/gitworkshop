a=input("Enter your name")
b=input("Enter your age")
https://github.com/belinda98/gitworkshop.gii
